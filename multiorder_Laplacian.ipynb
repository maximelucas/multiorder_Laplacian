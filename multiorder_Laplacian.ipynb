{
 "cells": [
  {
   "cell_type": "markdown",
   "metadata": {},
   "source": [
    "# Multiorder Laplacian in random simplicial complex"
   ]
  },
  {
   "cell_type": "code",
   "execution_count": 1,
   "metadata": {},
   "outputs": [],
   "source": [
    "import matplotlib.pyplot as plt\n",
    "import numpy as np\n",
    "import random\n",
    "from math import factorial\n",
    "\n",
    "import networkx as nx\n",
    "import seaborn as sb\n",
    "\n",
    "sb.set_context('paper')\n",
    "\n",
    "from itertools import combinations, permutations\n",
    "\n",
    "# %matplotlib tk"
   ]
  },
  {
   "cell_type": "markdown",
   "metadata": {},
   "source": [
    "## Functions"
   ]
  },
  {
   "cell_type": "markdown",
   "metadata": {},
   "source": [
    "### Useful simplicial complex functions"
   ]
  },
  {
   "cell_type": "code",
   "execution_count": 2,
   "metadata": {},
   "outputs": [],
   "source": [
    "def num_tri(G) :\n",
    "    \"\"\"Returns number of triangles in networkx graph G\"\"\"\n",
    "    return int(np.sum(list(nx.triangles(G).values())) / 3)\n",
    "\n",
    "\n",
    "def info(G) : \n",
    "    n_tri = num_tri(G)\n",
    "    n_links = len(G.edges)\n",
    "    \n",
    "    return f\"{len(G)} nodes, {n_links} edges and {n_tri} triangles\""
   ]
  },
  {
   "cell_type": "markdown",
   "metadata": {},
   "source": [
    "### Multiorder Laplacian functions"
   ]
  },
  {
   "cell_type": "code",
   "execution_count": 3,
   "metadata": {},
   "outputs": [],
   "source": [
    "def adj_tensor_of_order(d, d_simplices) : \n",
    "    \"\"\"Returns the adjacency tensor of order d of t\"\"\"\n",
    "    \n",
    "    assert len(d_simplices[0]) == d+1\n",
    "    \n",
    "    dims = (N,) * (d+1)\n",
    "    M = np.zeros(dims)\n",
    "#     print(M.shape)\n",
    "    \n",
    "    for d_simplex in d_simplices :\n",
    "        for d_simplex_perm in permutations(d_simplex) : \n",
    "#         print(i,j,k)\n",
    "#             print(d_simplex_perm)\n",
    "    \n",
    "            M[d_simplex_perm] = 1\n",
    "    return M\n",
    "\n",
    "def adj_matrix_of_order(d, M) : \n",
    "    \n",
    "    adj_d = 1 / factorial(d-1) * np.sum(M, axis=tuple(range(d+1)[2:])) # sum over all axes except first 2 (i,j)\n",
    "    \n",
    "    return adj_d\n",
    "\n",
    "def degree_of_order(d, M) : \n",
    "    \n",
    "    K_d = 1 / factorial(d) * np.sum(M, axis=tuple(range(d+1)[1:])) # sum over all axes except first 2 (i,j)\n",
    "    \n",
    "    return K_d\n",
    "\n",
    "def laplacian_of_order(d, d_simplices, return_k=False) :\n",
    "    \n",
    "    M_d = adj_tensor_of_order(d, d_simplices)\n",
    "    \n",
    "    Adj_d = adj_matrix_of_order(d, M_d)\n",
    "    K_d = degree_of_order(d, M_d) \n",
    "    \n",
    "    L_d = d * np.diag(K_d) - Adj_d\n",
    "    \n",
    "    if return_k :\n",
    "        return L_d, K_d\n",
    "    else:\n",
    "        return L_d\n",
    "    "
   ]
  },
  {
   "cell_type": "markdown",
   "metadata": {},
   "source": [
    "### Functions to generate random simplcial complex"
   ]
  },
  {
   "cell_type": "code",
   "execution_count": 4,
   "metadata": {},
   "outputs": [],
   "source": [
    "def get_p1_and_p2(k1,k2,N):\n",
    "    \"\"\"Returns probabilities p1 (edges) and p2 (triangles) from average degrees k1, k2 and number of nodes N\n",
    "    (function from I. Iacopini et al. https://github.com/iaciac/simplagion)\"\"\"\n",
    "    p2 = (2.*k2)/((N-1.)*(N-2.))\n",
    "    p1 = (k1 - 2.*k2)/((N-1.)- 2.*k2)\n",
    "    if (p1>=0) and (p2>=0):\n",
    "        return p1, p2\n",
    "    else:\n",
    "        print(p1, p2)\n",
    "        raise ValueError('Negative probability!')\n",
    "        \n",
    "def generate_random_hypergraph(p1, p2, N) : \n",
    "    \"\"\"based on RSC model from https://github.com/iaciac/simplagion\"\"\"\n",
    "    \n",
    "    G = nx.random_graphs.erdos_renyi_graph(N, p1)\n",
    "\n",
    "    # add random triangles\n",
    "    triangles_list = []\n",
    "\n",
    "    for tri in combinations(list(G.nodes()),3):\n",
    "        # create the triangle with probability p2\n",
    "        if random.random() <= p2:\n",
    "            #I close the triangle.\n",
    "            triangles_list.append(tri)\n",
    "\n",
    "            #Now I also need to add the new links to the graph created by the triangle\n",
    "            G.add_edge(tri[0], tri[1])\n",
    "            G.add_edge(tri[1], tri[2])\n",
    "            G.add_edge(tri[0], tri[2])\n",
    "            \n",
    "    return G, triangles_list"
   ]
  },
  {
   "cell_type": "markdown",
   "metadata": {},
   "source": [
    "## Generate simplicial complex and compute Laplacians and eigenvalues"
   ]
  },
  {
   "cell_type": "code",
   "execution_count": 5,
   "metadata": {},
   "outputs": [
    {
     "name": "stdout",
     "output_type": "stream",
     "text": [
      "p1=0.063, p2=0.002\n"
     ]
    }
   ],
   "source": [
    "# generate hypegraph\n",
    "\n",
    "N = 100 # number of nodes in the hypergraph\n",
    "k1 = 25 # average degree (edges)\n",
    "k2 = 10 # average degree (triangles)\n",
    "\n",
    "p1, p2 = get_p1_and_p2(k1, k2, N)\n",
    "print(f\"p1={p1:.3f}, p2={p2:.3f}\")\n",
    "\n",
    "G, triangles_list = generate_random_hypergraph(p1, p2, N)\n",
    "\n",
    "# compute Laplacians and eigenvalues\n",
    "\n",
    "L1, K1 = laplacian_of_order(d=1, d_simplices=list(G.edges), return_k=True)\n",
    "L2, K2 = laplacian_of_order(d=2, d_simplices=triangles_list, return_k=True)\n",
    "\n",
    "gamma_1 = 1\n",
    "gamma_2 = 1\n",
    "\n",
    "L12 = (gamma_1 / np.mean(K1)) * L1 + (gamma_2 / np.mean(K2)) * L2 #+ (gamma_3 / np.mean(K3)) * L3\n",
    "\n",
    "eival_1, _ = np.linalg.eig(L1)\n",
    "eival_2, _ = np.linalg.eig(L2)\n",
    "\n",
    "eival_12, _ = np.linalg.eig(L12)\n",
    "\n",
    "lyap_1 = - (gamma_1 / np.mean(K1)) * eival_1\n",
    "lyap_2 = - (gamma_2 / np.mean(K2)) * eival_2\n",
    "\n",
    "lyap_12 = - eival_12\n"
   ]
  },
  {
   "cell_type": "code",
   "execution_count": 6,
   "metadata": {},
   "outputs": [
    {
     "data": {
      "image/png": "[encoded data removed]",
      "text/plain": [
       "<Figure size 216x144 with 1 Axes>"
      ]
     },
     "metadata": {
      "needs_background": "light"
     },
     "output_type": "display_data"
    }
   ],
   "source": [
    "fig, ax = plt.subplots(figsize=(3, 2))\n",
    "\n",
    "ax.plot(np.sort(lyap_1)[::-1], 'o-', ms=2, label=r'$\\lambda^{(1)}$')\n",
    "ax.plot(np.sort(lyap_2)[::-1]/2, 'o-', ms=2,  label=r'$\\lambda^{(2)}$')\n",
    "\n",
    "# ax.plot(lyap_1 + lyap_2, 'o-', ms=2,  label=r'$\\lambda^{(2)}$')\n",
    "\n",
    "# ax.plot(np.sort(lyap_12)[::-1], 'ko-', ms=2,  label=r'$\\lambda^{(tot)}$')\n",
    "\n",
    "# ax.plot(np.sort(lyap_1)[::-1] + np.sort(lyap_2)[::-1], 'ro-', ms=2,  label=r'$\\lambda^{(tot)}$')\n",
    "\n",
    "lyap_s = np.sort(lyap_12)[::-1]\n",
    "\n",
    "ax.legend()\n",
    "ax.set_title(fr\"N={N}, k1={k1}, k2={k2}\") #s, $\\lambda^{{tot}}_2$={lyap_s[1]:.2f}, $\\lambda^{{tot}}_N$={lyap_s[-1]:.2f}\")\n",
    "ax.set_ylabel(r\"$\\lambda^{(d)}_i / d$\") #Lyapunov exponents \n",
    "ax.set_xlabel(r\"index $i$\")\n",
    "\n",
    "# plt.savefig(f\"random_iac__N_{N}_p1_{p1}_p2_{p2}_spectrum_g1_{gamma_1:+}_g2_{gamma_2:+}_normed.png\", dpi=300, bbox_inches=\"tight\")\n",
    "plt.savefig(f\"random_iac__N_{N}_k1_{k1}_k2_{k2}_spectrum_g1_{gamma_1:+}_g2_{gamma_2:+}_normed.png\", dpi=300, bbox_inches=\"tight\")\n",
    "\n",
    "plt.show()"
   ]
  },
  {
   "cell_type": "markdown",
   "metadata": {},
   "source": [
    "## Loop over parameter values"
   ]
  },
  {
   "cell_type": "code",
   "execution_count": 7,
   "metadata": {},
   "outputs": [],
   "source": [
    "def compute_hypergraph_and_eigenvalues(k1, k2, N) : \n",
    "    \n",
    "    p1, p2 = get_p1_and_p2(k1, k2, N)\n",
    "    print(f\"p1={p1:.3f}, p2={p2:.3f}\")\n",
    "\n",
    "    G, triangles_list = generate_random_hypergraph(p1, p2, N)\n",
    "\n",
    "    # compute Laplacians and eigenvalues\n",
    "\n",
    "    L1, K1 = laplacian_of_order(d=1, d_simplices=list(G.edges), return_k=True)\n",
    "    L2, K2 = laplacian_of_order(d=2, d_simplices=triangles_list, return_k=True)\n",
    "\n",
    "    gamma_1 = 1\n",
    "    gamma_2 = 1\n",
    "\n",
    "    L12 = (gamma_1 / np.mean(K1)) * L1 + (gamma_2 / np.mean(K2)) * L2 #+ (gamma_3 / np.mean(K3)) * L3\n",
    "\n",
    "    eival_1, _ = np.linalg.eig(L1)\n",
    "    eival_2, _ = np.linalg.eig(L2)\n",
    "\n",
    "    eival_12, _ = np.linalg.eig(L12)\n",
    "\n",
    "    lyap_1 = - (gamma_1 / np.mean(K1)) * eival_1\n",
    "    lyap_2 = - (gamma_2 / np.mean(K2)) * eival_2\n",
    "\n",
    "    lyap_12 = - eival_12\n",
    "    \n",
    "    return lyap_1, lyap_2, lyap_12"
   ]
  },
  {
   "cell_type": "code",
   "execution_count": 8,
   "metadata": {},
   "outputs": [
    {
     "name": "stdout",
     "output_type": "stream",
     "text": [
      "p1=0.063, p2=0.002\n",
      "p1=0.253, p2=0.002\n"
     ]
    },
    {
     "data": {
      "image/png": "[encoded data removed]",
      "text/plain": [
       "<Figure size 648x144 with 3 Axes>"
      ]
     },
     "metadata": {
      "needs_background": "light"
     },
     "output_type": "display_data"
    }
   ],
   "source": [
    "N = 100 # number of nodes in the hypergraph\n",
    "\n",
    "ks = [(25, 10), (40, 10)]\n",
    "n_k = len(ks)\n",
    "\n",
    "fig, axs = plt.subplots(ncols=n_k+1, figsize=(3*(n_k+1), 2), sharey=False)\n",
    "\n",
    "\n",
    "# plt.savefig(f\"random_iac__N_{N}_p1_{p1}_p2_{p2}_spectrum_g1_{gamma_1:+}_g2_{gamma_2:+}_normed.png\", dpi=300, bbox_inches=\"tight\")\n",
    "# plt.savefig(f\"random_iac__N_{N}_k1_{k1}_k2_{k2}_spectrum_g1_{gamma_1:+}_g2_{gamma_2:+}_normed.png\", dpi=300, bbox_inches=\"tight\")\n",
    "\n",
    "colors = ['#471001', '#627E9A']\n",
    "\n",
    "for i, (k1, k2) in enumerate(ks) : \n",
    "    \n",
    "    ax = axs[i]\n",
    "    \n",
    "    lyap_1, lyap_2, lyap_12 = compute_hypergraph_and_eigenvalues(k1, k2, N)\n",
    "    \n",
    "    ax.plot(np.sort(lyap_1)[::-1], 'o-', c=colors[0], ms=2, label=r'$\\lambda^{(1)}$')\n",
    "    ax.plot(np.sort(lyap_2)[::-1]/2, 'o-', c=colors[1], ms=2,  label=r'$\\lambda^{(2)}$')\n",
    "    lyap_s = np.sort(lyap_12)[::-1]\n",
    "    \n",
    "    ax.set_title(fr\"$\\langle K^{{(1)}} \\rangle=${k1}, $\\langle K^{{(2)}} \\rangle=${k2}\") #s, $\\lambda^{{tot}}_2$={lyap_s[1]:.2f}, $\\lambda^{{tot}}_N$={lyap_s[-1]:.2f}\")\n",
    "    ax.set_xlabel(r\"index $i$\")\n",
    "    \n",
    "axs[-1].plot(lyap_s, 'o-', c=\"darkolivegreen\", ms=2, label=r'$\\lambda^{(mul)}$')\n",
    "color = 'indianred'\n",
    "axs[-1].plot(np.sort(lyap_1)[::-1] + np.sort(lyap_2)[::-1], 'o-', c=color, mec=color, mfc='white', ms=4, zorder=-2, label=r'$\\lambda^{(1)} + \\lambda^{(2)}$')\n",
    "axs[-1].legend()   \n",
    "axs[-1].set_xlabel(r\"index $i$\")\n",
    "axs[-1].set_title(fr\"$\\langle K^{{(1)}} \\rangle=${k1}, $\\langle K^{{(2)}} \\rangle=${k2}\") #s, $\\lambda^{{tot}}_2$={lyap_s[1]:.2f}, $\\lambda^{{tot}}_N$={lyap_s[-1]:.2f}\")\n",
    "\n",
    "axs[0].set_ylabel(r\"$\\lambda^{(d)}_i / d$\") #Lyapunov exponents \n",
    "axs[0].legend()        \n",
    "\n",
    "axs[0].set_ylim(ymin=-2.3)\n",
    "axs[1].set_ylim(ymin=-2.3)\n",
    "axs[1].set_yticklabels([])\n",
    "\n",
    "for i, label in enumerate(('A', 'B', 'C')):\n",
    "#     ax = fig.add_subplot(2,2,i+1)\n",
    "    axs[i].text(0.05, 0.05, label, transform=axs[i].transAxes, fontweight='bold', va='bottom', ha='left')\n",
    "\n",
    "plt.savefig(f\"random_hypergraph_lyaps_N_{N}_ks_{ks}.png\", dpi=250, bbox_inches=\"tight\")\n",
    "plt.savefig(f\"random_hypergraph_lyaps_N_{N}_ks_{ks}.pdf\", dpi=250, bbox_inches=\"tight\")\n",
    "\n",
    "plt.show()\n"
   ]
  },
  {
   "cell_type": "code",
   "execution_count": null,
   "metadata": {},
   "outputs": [],
   "source": []
  }
 ],
 "metadata": {
  "kernelspec": {
   "display_name": "Python 3",
   "language": "python",
   "name": "python3"
  },
  "language_info": {
   "codemirror_mode": {
    "name": "ipython",
    "version": 3
   },
   "file_extension": ".py",
   "mimetype": "text/x-python",
   "name": "python",
   "nbconvert_exporter": "python",
   "pygments_lexer": "ipython3",
   "version": "3.6.9"
  }
 },
 "nbformat": 4,
 "nbformat_minor": 2
}
